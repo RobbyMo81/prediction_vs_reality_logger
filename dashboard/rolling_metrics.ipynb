{
 "cells": [
  {
   "cell_type": "markdown",
   "id": "9a6289b4",
   "metadata": {},
   "source": [
    "# Prediction vs Reality Analysis Dashboard\n",
    "\n",
    "This notebook analyzes the performance of market predictions against actual outcomes. We'll examine:\n",
    "1. Overall hit rates and trends\n",
    "2. Performance by scenario type\n",
    "3. Rolling window analysis\n",
    "4. Statistical significance testing"
   ]
  },
  {
   "cell_type": "code",
   "execution_count": null,
   "id": "6255e3b5",
   "metadata": {},
   "outputs": [],
   "source": [
    "import pandas as pd\n",
    "import numpy as np\n",
    "import matplotlib.pyplot as plt\n",
    "import seaborn as sns\n",
    "from scipy import stats\n",
    "from datetime import datetime, timedelta\n",
    "\n",
    "# Load prediction data\n",
    "df = pd.read_csv('../data/predictions.csv')\n",
    "df['date'] = pd.to_datetime(df['date'])\n",
    "df = df.sort_values('date')"
   ]
  },
  {
   "cell_type": "markdown",
   "id": "311064cb",
   "metadata": {},
   "source": [
    "## Overall Performance Metrics\n",
    "\n",
    "Let's first look at the overall hit rate and performance by scenario type."
   ]
  },
  {
   "cell_type": "code",
   "execution_count": null,
   "id": "201ddd57",
   "metadata": {},
   "outputs": [],
   "source": [
    "# Calculate overall hit rate\n",
    "overall_hit_rate = df['hit'].mean()\n",
    "\n",
    "# Calculate hit rates by scenario\n",
    "scenario_hits = df.groupby('scenario')['hit'].agg(['count', 'mean'])\n",
    "scenario_hits.columns = ['Total Predictions', 'Hit Rate']\n",
    "\n",
    "print(f\"Overall Hit Rate: {overall_hit_rate:.2%}\\n\")\n",
    "print(\"Performance by Scenario:\")\n",
    "print(scenario_hits)"
   ]
  },
  {
   "cell_type": "markdown",
   "id": "07fbe1d2",
   "metadata": {},
   "source": [
    "## Rolling Window Analysis\n",
    "\n",
    "Let's analyze how hit rates have changed over time using different rolling windows."
   ]
  },
  {
   "cell_type": "code",
   "execution_count": null,
   "id": "ceb02baf",
   "metadata": {},
   "outputs": [],
   "source": [
    "# Calculate rolling hit rates\n",
    "windows = [5, 10, 20]\n",
    "rolling_metrics = pd.DataFrame(index=df['date'])\n",
    "\n",
    "for window in windows:\n",
    "    rolling_metrics[f'{window}d_hit_rate'] = df['hit'].rolling(window).mean()\n",
    "\n",
    "# Plot rolling hit rates\n",
    "plt.figure(figsize=(12, 6))\n",
    "for window in windows:\n",
    "    plt.plot(rolling_metrics.index, \n",
    "             rolling_metrics[f'{window}d_hit_rate'], \n",
    "             label=f'{window}-day Rolling Hit Rate')\n",
    "\n",
    "plt.axhline(y=overall_hit_rate, color='r', linestyle='--', label='Overall Hit Rate')\n",
    "plt.title('Rolling Hit Rates Over Time')\n",
    "plt.xlabel('Date')\n",
    "plt.ylabel('Hit Rate')\n",
    "plt.legend()\n",
    "plt.grid(True)\n",
    "plt.show()"
   ]
  },
  {
   "cell_type": "markdown",
   "id": "2faee8fd",
   "metadata": {},
   "source": [
    "## Statistical Analysis\n",
    "\n",
    "Let's perform statistical tests to determine if our hit rates are significantly different from random chance (50%)."
   ]
  },
  {
   "cell_type": "code",
   "execution_count": null,
   "id": "560fce25",
   "metadata": {},
   "outputs": [],
   "source": [
    "# Perform binomial test for overall performance\n",
    "n_trials = len(df)\n",
    "n_successes = df['hit'].sum()\n",
    "binom_test = stats.binomtest(n_successes, n_trials, p=0.5)\n",
    "\n",
    "print(f\"Binomial Test Results:\")\n",
    "print(f\"Number of trials: {n_trials}\")\n",
    "print(f\"Number of successes: {n_successes}\")\n",
    "print(f\"P-value: {binom_test.pvalue:.4f}\")\n",
    "print(f\"Is significantly different from random chance? {binom_test.pvalue < 0.05}\")\n",
    "\n",
    "# Test for each scenario\n",
    "print(\"\\nResults by Scenario:\")\n",
    "for scenario in df['scenario'].unique():\n",
    "    scenario_data = df[df['scenario'] == scenario]\n",
    "    n_scenario = len(scenario_data)\n",
    "    n_scenario_hits = scenario_data['hit'].sum()\n",
    "    scenario_test = stats.binomtest(n_scenario_hits, n_scenario, p=0.5)\n",
    "    \n",
    "    print(f\"\\n{scenario}:\")\n",
    "    print(f\"Trials: {n_scenario}\")\n",
    "    print(f\"Successes: {n_scenario_hits}\")\n",
    "    print(f\"Hit Rate: {n_scenario_hits/n_scenario:.2%}\")\n",
    "    print(f\"P-value: {scenario_test.pvalue:.4f}\")\n",
    "    print(f\"Significant? {scenario_test.pvalue < 0.05}\")"
   ]
  }
 ],
 "metadata": {
  "language_info": {
   "name": "python"
  }
 },
 "nbformat": 4,
 "nbformat_minor": 5
}
