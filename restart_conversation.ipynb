{
 "cells": [
  {
   "cell_type": "markdown",
   "id": "f97d754f",
   "metadata": {},
   "source": [
    "# Conversation State Management and Reset Guide\n",
    "\n",
    "This notebook demonstrates various methods and techniques for managing conversation state, resetting dialogs, and reinitializing system contexts. We'll explore how to inspect current state, clear conversation history, reset user context, and completely reinitialize the system."
   ]
  },
  {
   "cell_type": "markdown",
   "id": "8a770ab3",
   "metadata": {},
   "source": [
    "## 1. Check Current State\n",
    "\n",
    "Before resetting or reinitializing a conversation, it's important to understand the current state. This section demonstrates methods to inspect the current conversation state and variables."
   ]
  },
  {
   "cell_type": "code",
   "execution_count": null,
   "id": "950a2dc0",
   "metadata": {},
   "outputs": [],
   "source": [
    "import json\n",
    "from datetime import datetime\n",
    "\n",
    "class ConversationState:\n",
    "    def __init__(self):\n",
    "        self.messages = []\n",
    "        self.context = {}\n",
    "        self.last_updated = None\n",
    "        \n",
    "    def add_message(self, message):\n",
    "        self.messages.append(message)\n",
    "        self.last_updated = datetime.now()\n",
    "        \n",
    "    def get_state(self):\n",
    "        return {\n",
    "            \"message_count\": len(self.messages),\n",
    "            \"last_updated\": str(self.last_updated) if self.last_updated else None,\n",
    "            \"context_keys\": list(self.context.keys())\n",
    "        }\n",
    "\n",
    "# Create a sample conversation state\n",
    "conversation = ConversationState()\n",
    "conversation.add_message(\"Hello!\")\n",
    "conversation.context[\"user_preferences\"] = {\"language\": \"en\", \"timezone\": \"UTC\"}\n",
    "\n",
    "# Display current state\n",
    "print(\"Current Conversation State:\")\n",
    "print(json.dumps(conversation.get_state(), indent=2))"
   ]
  },
  {
   "cell_type": "markdown",
   "id": "fed95561",
   "metadata": {},
   "source": [
    "## 2. Clear Conversation History\n",
    "\n",
    "When resetting a conversation, one of the first steps is clearing the existing message history. Here are techniques for safely clearing conversation history while preserving essential system settings."
   ]
  },
  {
   "cell_type": "code",
   "execution_count": null,
   "id": "146b2da8",
   "metadata": {},
   "outputs": [],
   "source": [
    "def clear_conversation_history(conversation):\n",
    "    \"\"\"Clear message history while preserving context and settings.\"\"\"\n",
    "    message_count = len(conversation.messages)\n",
    "    conversation.messages = []\n",
    "    conversation.last_updated = datetime.now()\n",
    "    \n",
    "    return {\n",
    "        \"messages_cleared\": message_count,\n",
    "        \"preserved_context_keys\": list(conversation.context.keys()),\n",
    "        \"cleared_at\": str(conversation.last_updated)\n",
    "    }\n",
    "\n",
    "# Clear the conversation history\n",
    "clear_result = clear_conversation_history(conversation)\n",
    "print(\"Conversation History Cleared:\")\n",
    "print(json.dumps(clear_result, indent=2))\n",
    "\n",
    "# Verify current state after clearing\n",
    "print(\"\\nCurrent State After Clearing:\")\n",
    "print(json.dumps(conversation.get_state(), indent=2))"
   ]
  },
  {
   "cell_type": "markdown",
   "id": "6dd8161d",
   "metadata": {},
   "source": [
    "## 3. Reset User Context\n",
    "\n",
    "Sometimes we need to reset user-specific context and preferences while maintaining system configuration. This section demonstrates how to safely reset user context to default values."
   ]
  },
  {
   "cell_type": "code",
   "execution_count": null,
   "id": "b1b7068c",
   "metadata": {},
   "outputs": [],
   "source": [
    "DEFAULT_USER_PREFERENCES = {\n",
    "    \"language\": \"en\",\n",
    "    \"timezone\": \"UTC\",\n",
    "    \"notification_enabled\": False,\n",
    "    \"theme\": \"default\"\n",
    "}\n",
    "\n",
    "def reset_user_context(conversation, preserve_keys=None):\n",
    "    \"\"\"Reset user context to default values, optionally preserving specific keys.\"\"\"\n",
    "    preserve_keys = preserve_keys or []\n",
    "    old_context = conversation.context.copy()\n",
    "    \n",
    "    # Reset context to defaults\n",
    "    conversation.context = DEFAULT_USER_PREFERENCES.copy()\n",
    "    \n",
    "    # Preserve specified keys\n",
    "    for key in preserve_keys:\n",
    "        if key in old_context:\n",
    "            conversation.context[key] = old_context[key]\n",
    "    \n",
    "    conversation.last_updated = datetime.now()\n",
    "    \n",
    "    return {\n",
    "        \"previous_context\": old_context,\n",
    "        \"new_context\": conversation.context,\n",
    "        \"preserved_keys\": preserve_keys,\n",
    "        \"reset_at\": str(conversation.last_updated)\n",
    "    }\n",
    "\n",
    "# Reset user context while preserving timezone\n",
    "reset_result = reset_user_context(conversation, preserve_keys=[\"timezone\"])\n",
    "print(\"User Context Reset Results:\")\n",
    "print(json.dumps(reset_result, indent=2))"
   ]
  },
  {
   "cell_type": "markdown",
   "id": "24c776e2",
   "metadata": {},
   "source": [
    "## 4. Reinitialize System\n",
    "\n",
    "For a complete reset, we sometimes need to reinitialize the entire system to its original state. This section covers methods to safely reinitialize all system components, including configuration settings."
   ]
  },
  {
   "cell_type": "code",
   "execution_count": null,
   "id": "e526b841",
   "metadata": {},
   "outputs": [],
   "source": [
    "def reinitialize_system(conversation, backup=True):\n",
    "    \"\"\"Completely reinitialize the system to its original state.\"\"\"\n",
    "    # Create backup if requested\n",
    "    backup_data = None\n",
    "    if backup:\n",
    "        backup_data = {\n",
    "            \"messages\": conversation.messages.copy(),\n",
    "            \"context\": conversation.context.copy(),\n",
    "            \"last_updated\": str(conversation.last_updated)\n",
    "        }\n",
    "    \n",
    "    # Reset everything to initial state\n",
    "    conversation.messages = []\n",
    "    conversation.context = DEFAULT_USER_PREFERENCES.copy()\n",
    "    conversation.last_updated = datetime.now()\n",
    "    \n",
    "    return {\n",
    "        \"backup_created\": backup,\n",
    "        \"backup_data\": backup_data,\n",
    "        \"new_state\": conversation.get_state(),\n",
    "        \"reinitialized_at\": str(conversation.last_updated)\n",
    "    }\n",
    "\n",
    "# Reinitialize the entire system\n",
    "reinit_result = reinitialize_system(conversation)\n",
    "print(\"System Reinitialization Results:\")\n",
    "print(json.dumps(reinit_result, indent=2))\n",
    "\n",
    "# Verify final state\n",
    "print(\"\\nFinal System State:\")\n",
    "print(json.dumps(conversation.get_state(), indent=2))"
   ]
  }
 ],
 "metadata": {
  "language_info": {
   "name": "python"
  }
 },
 "nbformat": 4,
 "nbformat_minor": 5
}
